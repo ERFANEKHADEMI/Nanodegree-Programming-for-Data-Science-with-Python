{
 "cells": [
  {
   "cell_type": "markdown",
   "metadata": {},
   "source": [
    "Today we had a session that we wrote code in, we have learned how to use the numpy library. Where we have perfomred many operations including finding the tf idf of the docummets."
   ]
  },
  {
   "cell_type": "markdown",
   "metadata": {},
   "source": [
    "Use the numby to covery to array"
   ]
  },
  {
   "cell_type": "code",
   "execution_count": null,
   "metadata": {},
   "outputs": [],
   "source": [
    "import numpy as np\n",
    "listx = [\n",
    "    [1,2,3],\n",
    "    [4,5,6],\n",
    "    [7,8,9]\n",
    "]\n",
    "np.array(listx)\n",
    "arrx= np.array(listx)\n",
    "arrx.mean(axis=1)"
   ]
  },
  {
   "cell_type": "markdown",
   "metadata": {},
   "source": [
    "Used the np to find the tf dif"
   ]
  },
  {
   "cell_type": "code",
   "execution_count": 2,
   "metadata": {},
   "outputs": [
    {
     "name": "stdout",
     "output_type": "stream",
     "text": [
      "[[0. 0. 0. 0. 0. 0. 0. 0.]\n",
      " [0. 0. 0. 0. 0. 0. 0. 0.]\n",
      " [0. 0. 0. 0. 0. 0. 0. 0.]]\n",
      "{'no.', 'is', 'this', '2nd', 'doc', '3', 'first', 'in', 'the'}\n"
     ]
    }
   ],
   "source": [
    "import numpy as np\n",
    "\n",
    "# create documents\n",
    "docs = [\n",
    "    \"this is first doc\",\n",
    "    \"this doc is 2nd\",\n",
    "    \"in the doc no. 3\"\n",
    "]\n",
    "\n",
    "# initialize using zeros \n",
    "tf = np.zeros([3, 8])\n",
    "\n",
    "# use the zeros to initialize them all to 0 and there is also the ones method\n",
    "tf = np.zeros([len(docs), 8])\n",
    "print(tf)\n",
    "\n",
    "terms = []\n",
    "\n",
    "for doc in docs:\n",
    "    terms += doc.split()\n",
    "\n",
    "# find the unique terms by using the set \n",
    "unique_terms = set(terms)\n",
    "print(unique_terms)"
   ]
  }
 ],
 "metadata": {
  "kernelspec": {
   "display_name": "Python 3",
   "language": "python",
   "name": "python3"
  },
  "language_info": {
   "codemirror_mode": {
    "name": "ipython",
    "version": 3
   },
   "file_extension": ".py",
   "mimetype": "text/x-python",
   "name": "python",
   "nbconvert_exporter": "python",
   "pygments_lexer": "ipython3",
   "version": "3.11.0"
  },
  "orig_nbformat": 4
 },
 "nbformat": 4,
 "nbformat_minor": 2
}
