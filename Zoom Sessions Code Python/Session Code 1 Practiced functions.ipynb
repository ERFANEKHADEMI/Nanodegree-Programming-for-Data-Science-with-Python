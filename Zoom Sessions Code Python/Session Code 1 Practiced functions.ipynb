{
 "cells": [
  {
   "cell_type": "markdown",
   "metadata": {},
   "source": [
    "In this session write a function that gets the TFS:"
   ]
  },
  {
   "cell_type": "code",
   "execution_count": 2,
   "metadata": {},
   "outputs": [
    {
     "data": {
      "text/plain": [
       "' From line 9 to line 44 is trial code, the final code is line 44 to the end '"
      ]
     },
     "execution_count": 2,
     "metadata": {},
     "output_type": "execute_result"
    }
   ],
   "source": [
    "text = \"\"\"Lorem ipsum dolor sit amet, consectetur adipiscing elit, sed do eiusmod tempor incididunt ut labore et dolore magna aliqua.\n",
    "Aenean et tortor at risus viverra. Neque sodales ut etiam sit amet nisl purus. Nunc vel risus commodo viverra maecenas accumsan lacus vel.\n",
    "Non pulvinar neque laoreet suspendisse interdum consectetur. Augue mauris augue neque gravida in fermentum et sollicitudin ac. Odio pellentesque diam volutpat commodo sed egestas egestas fringilla phasellus.\n",
    "Urna molestie at elementum eu. Libero justo laoreet sit amet cursus sit. Ut sem nulla pharetra diam sit amet nisl suscipit. Ac turpis egestas maecenas pharetra convallis posuere morbi. Elementum tempus egestas sed sed risus pretium quam vulputate. Interdum consectetur libero id faucibus nisl. Fermentum dui faucibus in ornare quam viverra orci.\n",
    "Diam maecenas ultricies mi eget mauris. Elementum nibh tellus molestie nunc non blandit massa enim nec. Nibh mauris cursus mattis molestie.\n",
    "Dis parturient montes nascetur ridiculus mus mauris vitae.\"\"\"\n",
    "\n",
    "\"\"\"\"\"\"\" From line 9 to line 44 is trial code, the final code is line 44 to the end \"\"\"\"\"\"\"\"\"\"\"\"\"\n"
   ]
  },
  {
   "cell_type": "code",
   "execution_count": 3,
   "metadata": {},
   "outputs": [
    {
     "name": "stdout",
     "output_type": "stream",
     "text": [
      "{'nibh': 0.013333333333333334, 'ipsum': 0.006666666666666667, 'mus': 0.006666666666666667, 'do': 0.006666666666666667, 'consectetur': 0.013333333333333334, 'labore': 0.006666666666666667, 'dis': 0.006666666666666667, 'urna': 0.006666666666666667, 'aenean': 0.006666666666666667, 'odio': 0.006666666666666667, 'purus.': 0.006666666666666667, 'et': 0.02, 'suscipit.': 0.006666666666666667, 'nisl': 0.013333333333333334, 'neque': 0.02, 'enim': 0.006666666666666667, 'elementum': 0.02, 'parturient': 0.006666666666666667, 'massa': 0.006666666666666667, 'dolore': 0.006666666666666667, 'in': 0.013333333333333334, 'vulputate.': 0.006666666666666667, 'etiam': 0.006666666666666667, 'pulvinar': 0.006666666666666667, 'ultricies': 0.006666666666666667, 'at': 0.013333333333333334, 'gravida': 0.006666666666666667, 'lacus': 0.006666666666666667, 'amet': 0.02, 'non': 0.013333333333333334, 'turpis': 0.006666666666666667, 'pharetra': 0.013333333333333334, 'interdum': 0.013333333333333334, 'vitae.': 0.006666666666666667, 'accumsan': 0.006666666666666667, 'libero': 0.013333333333333334, 'laoreet': 0.013333333333333334, 'fringilla': 0.006666666666666667, 'nulla': 0.006666666666666667, 'molestie': 0.013333333333333334, 'morbi.': 0.006666666666666667, 'mi': 0.006666666666666667, 'ac': 0.006666666666666667, 'sit.': 0.006666666666666667, 'tellus': 0.006666666666666667, 'pellentesque': 0.006666666666666667, 'incididunt': 0.006666666666666667, 'sollicitudin': 0.006666666666666667, 'vel': 0.006666666666666667, 'maecenas': 0.02, 'eget': 0.006666666666666667, 'vel.': 0.006666666666666667, 'tortor': 0.006666666666666667, 'eu.': 0.006666666666666667, 'molestie.': 0.006666666666666667, 'magna': 0.006666666666666667, 'posuere': 0.006666666666666667, 'dui': 0.006666666666666667, 'commodo': 0.013333333333333334, 'nascetur': 0.006666666666666667, 'montes': 0.006666666666666667, 'sit': 0.02666666666666667, 'mattis': 0.006666666666666667, 'lorem': 0.006666666666666667, 'diam': 0.02, 'tempus': 0.006666666666666667, 'phasellus.': 0.006666666666666667, 'eiusmod': 0.006666666666666667, 'suspendisse': 0.006666666666666667, 'egestas': 0.02666666666666667, 'tempor': 0.006666666666666667, 'blandit': 0.006666666666666667, 'ac.': 0.006666666666666667, 'consectetur.': 0.006666666666666667, 'ridiculus': 0.006666666666666667, 'viverra': 0.013333333333333334, 'adipiscing': 0.006666666666666667, 'orci.': 0.006666666666666667, 'cursus': 0.013333333333333334, 'amet,': 0.006666666666666667, 'sed': 0.02666666666666667, 'augue': 0.013333333333333334, 'viverra.': 0.006666666666666667, 'sem': 0.006666666666666667, 'dolor': 0.006666666666666667, 'ut': 0.02, 'elit,': 0.006666666666666667, 'mauris': 0.02, 'nunc': 0.013333333333333334, 'id': 0.006666666666666667, 'mauris.': 0.006666666666666667, 'nec.': 0.006666666666666667, 'faucibus': 0.013333333333333334, 'nisl.': 0.006666666666666667, 'ornare': 0.006666666666666667, 'convallis': 0.006666666666666667, 'risus': 0.02, 'fermentum': 0.013333333333333334, 'justo': 0.006666666666666667, 'aliqua.': 0.006666666666666667, 'sodales': 0.006666666666666667, 'pretium': 0.006666666666666667, 'volutpat': 0.006666666666666667, 'quam': 0.013333333333333334}\n"
     ]
    }
   ],
   "source": [
    "# instead of writing all this can only use line 11\n",
    "textsLines = text.splitlines()\n",
    "tokens = []\n",
    "\n",
    "for line in textsLines:\n",
    "    tokens+=line.split(\" \") #used += instead of append\n",
    "\n",
    "#words_flat = [word for line in words for word in line]\n",
    "\n",
    "lowerCaseText = text.lower()\n",
    "# print(lowerCaseText)\n",
    "\n",
    "splittedText = lowerCaseText.split()\n",
    "#print(splittedText)\n",
    "# return iterable list\n",
    "uniqueTerms = list(set(splittedText))\n",
    "#print(uniqueTerms)\n",
    "\n",
    "\n",
    "# total # of terms in the documnet\n",
    "count = len(splittedText)\n",
    "\n",
    "# get the frequencies \n",
    "# word --> TF\n",
    "tfs = {}\n",
    "for word in uniqueTerms:\n",
    "    tfs[word] = splittedText.count(word)/count\n",
    "print(tfs)\n",
    "\n",
    "# text is always case-sensitive\n",
    "# fruits = ['orange', 'apple', 'pear', 'banana', 'kiwi', 'apple', 'banana']\n",
    "# print(fruits.count('apple'))"
   ]
  },
  {
   "cell_type": "markdown",
   "metadata": {},
   "source": [
    "This is the function that writes the tfs"
   ]
  },
  {
   "cell_type": "code",
   "execution_count": 4,
   "metadata": {},
   "outputs": [
    {
     "name": "stdout",
     "output_type": "stream",
     "text": [
      "{'nibh': 0.013333333333333334, 'ipsum': 0.006666666666666667, 'mus': 0.006666666666666667, 'do': 0.006666666666666667, 'consectetur': 0.013333333333333334, 'labore': 0.006666666666666667, 'dis': 0.006666666666666667, 'urna': 0.006666666666666667, 'aenean': 0.006666666666666667, 'odio': 0.006666666666666667, 'purus.': 0.006666666666666667, 'et': 0.02, 'suscipit.': 0.006666666666666667, 'nisl': 0.013333333333333334, 'neque': 0.02, 'enim': 0.006666666666666667, 'elementum': 0.02, 'parturient': 0.006666666666666667, 'massa': 0.006666666666666667, 'dolore': 0.006666666666666667, 'in': 0.013333333333333334, 'vulputate.': 0.006666666666666667, 'etiam': 0.006666666666666667, 'pulvinar': 0.006666666666666667, 'ultricies': 0.006666666666666667, 'at': 0.013333333333333334, 'gravida': 0.006666666666666667, 'lacus': 0.006666666666666667, 'amet': 0.02, 'non': 0.013333333333333334, 'turpis': 0.006666666666666667, 'pharetra': 0.013333333333333334, 'interdum': 0.013333333333333334, 'vitae.': 0.006666666666666667, 'accumsan': 0.006666666666666667, 'libero': 0.013333333333333334, 'laoreet': 0.013333333333333334, 'fringilla': 0.006666666666666667, 'nulla': 0.006666666666666667, 'molestie': 0.013333333333333334, 'morbi.': 0.006666666666666667, 'mi': 0.006666666666666667, 'ac': 0.006666666666666667, 'sit.': 0.006666666666666667, 'tellus': 0.006666666666666667, 'pellentesque': 0.006666666666666667, 'incididunt': 0.006666666666666667, 'sollicitudin': 0.006666666666666667, 'vel': 0.006666666666666667, 'maecenas': 0.02, 'eget': 0.006666666666666667, 'vel.': 0.006666666666666667, 'tortor': 0.006666666666666667, 'eu.': 0.006666666666666667, 'molestie.': 0.006666666666666667, 'magna': 0.006666666666666667, 'posuere': 0.006666666666666667, 'dui': 0.006666666666666667, 'commodo': 0.013333333333333334, 'nascetur': 0.006666666666666667, 'montes': 0.006666666666666667, 'sit': 0.02666666666666667, 'mattis': 0.006666666666666667, 'lorem': 0.006666666666666667, 'diam': 0.02, 'tempus': 0.006666666666666667, 'phasellus.': 0.006666666666666667, 'eiusmod': 0.006666666666666667, 'suspendisse': 0.006666666666666667, 'egestas': 0.02666666666666667, 'tempor': 0.006666666666666667, 'blandit': 0.006666666666666667, 'ac.': 0.006666666666666667, 'consectetur.': 0.006666666666666667, 'ridiculus': 0.006666666666666667, 'viverra': 0.013333333333333334, 'adipiscing': 0.006666666666666667, 'orci.': 0.006666666666666667, 'cursus': 0.013333333333333334, 'amet,': 0.006666666666666667, 'sed': 0.02666666666666667, 'augue': 0.013333333333333334, 'viverra.': 0.006666666666666667, 'sem': 0.006666666666666667, 'dolor': 0.006666666666666667, 'ut': 0.02, 'elit,': 0.006666666666666667, 'mauris': 0.02, 'nunc': 0.013333333333333334, 'id': 0.006666666666666667, 'mauris.': 0.006666666666666667, 'nec.': 0.006666666666666667, 'faucibus': 0.013333333333333334, 'nisl.': 0.006666666666666667, 'ornare': 0.006666666666666667, 'convallis': 0.006666666666666667, 'risus': 0.02, 'fermentum': 0.013333333333333334, 'justo': 0.006666666666666667, 'aliqua.': 0.006666666666666667, 'sodales': 0.006666666666666667, 'pretium': 0.006666666666666667, 'volutpat': 0.006666666666666667, 'quam': 0.013333333333333334}\n",
      "Exception occurred: 'list' object has no attribute 'lower'\n",
      "None\n",
      "Exception occurred: 'bool' object has no attribute 'lower'\n",
      "None\n"
     ]
    }
   ],
   "source": [
    "# a function that takes a text input to return the Tfs\n",
    "def getTFs(document):\n",
    "    # if not string returns error, but if the type of the docunet is string use a list and complete\n",
    "    try:\n",
    "        #if(type(document) is str):\n",
    "        lowerCaseText = document.lower()\n",
    "        # print(lowerCaseText)\n",
    "\n",
    "        splittedText = lowerCaseText.split()\n",
    "        # print(splittedText)\n",
    "        # return iterable list\n",
    "        uniqueTerms = list(set(splittedText))\n",
    "        #print(uniqueTerms)\n",
    "\n",
    "        # total # of terms in the documnet\n",
    "        count = len(splittedText)\n",
    "\n",
    "        # get the frequencies \n",
    "        # word --> TF\n",
    "        # documnet --> wrod1: tf, word2: tf\n",
    "        tfs = {}\n",
    "        for word in uniqueTerms:\n",
    "            tfs[word] = splittedText.count(word)/count\n",
    "        return tfs\n",
    "        #else:\n",
    "         #   return \"Type Mismatch, must be of type string\" #input validation\n",
    "    except Exception as e:   \n",
    "        print(\"Exception occurred: {}\".format(e))\n",
    "\n",
    "print(getTFs(text))\n",
    "print(getTFs([]))\n",
    "print(getTFs(True))"
   ]
  }
 ],
 "metadata": {
  "kernelspec": {
   "display_name": "Python 3",
   "language": "python",
   "name": "python3"
  },
  "language_info": {
   "codemirror_mode": {
    "name": "ipython",
    "version": 3
   },
   "file_extension": ".py",
   "mimetype": "text/x-python",
   "name": "python",
   "nbconvert_exporter": "python",
   "pygments_lexer": "ipython3",
   "version": "3.11.0"
  },
  "orig_nbformat": 4
 },
 "nbformat": 4,
 "nbformat_minor": 2
}
